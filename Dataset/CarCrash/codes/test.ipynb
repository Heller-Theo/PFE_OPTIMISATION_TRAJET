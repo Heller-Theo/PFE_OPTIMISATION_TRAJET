{
 "cells": [
  {
   "cell_type": "code",
   "execution_count": 2,
   "metadata": {},
   "outputs": [],
   "source": [
    "import os, cv2\n",
    "import numpy as np\n",
    "\n",
    "def read_anno_file(anno_file):\n",
    "    assert os.path.exists(anno_file), \"Annotation file does not exist!\" + anno_file\n",
    "    result = []\n",
    "    with open(anno_file, 'r') as f:\n",
    "        for line in f.readlines():\n",
    "            items = {}\n",
    "            items['vid'] = line.strip().split(',[')[0]\n",
    "            labels = line.strip().split(',[')[1].split('],')[0]\n",
    "            items['label'] = [int(val) for val in labels.split(',')]\n",
    "            others = line.strip().split(',[')[1].split('],')[1].split(',')\n",
    "            items['startframe'], items['vid_ytb'], items['lighting'], items['weather'], items['ego_involve'] = others\n",
    "            result.append(items)\n",
    "    f.close()\n",
    "    return result\n",
    "\n",
    "\n",
    "def get_video_frames(video_file, topN=50):\n",
    "    # get the video data\n",
    "    cap = cv2.VideoCapture(video_file)\n",
    "    ret, frame = cap.read()\n",
    "    video_data = []\n",
    "    while (ret):\n",
    "        video_data.append(frame)\n",
    "        ret, frame = cap.read()\n",
    "    print(\"original # frames: %d\"%(len(video_data)))\n",
    "    assert len(video_data) >= topN\n",
    "    video_data = video_data[:topN]\n",
    "    return video_data\n",
    "\n"
   ]
  },
  {
   "cell_type": "code",
   "execution_count": null,
   "metadata": {},
   "outputs": [],
   "source": [
    "\n",
    "if __name__ == \"__main__\":\n",
    "    anno_file = \"../videos/Crash-1500.txt\"\n",
    "    anno_data = read_anno_file(anno_file)\n",
    "\n",
    "    video_path = \"../videos/Crash-1500\"\n",
    "    for anno in anno_data:\n",
    "        video_file = os.path.join(video_path, anno['vid'] + \".mp4\")\n",
    "        assert os.path.exists(video_file), \"video file does not exist!\" + video_file\n",
    "        # read frames\n",
    "        frames = get_video_frames(video_file, topN=50)\n",
    "        labels = anno['label']\n",
    "        print(\"file: %s, # frames: %d, # labels: %d.\"%(video_file, len(frames), len(labels)))\n",
    "        print(len(labels))\n",
    "        for idx, im in enumerate(frames):\n",
    "           if labels[idx] == 1:\n",
    "               cv2.putText(im, 'Accident', (int(im.shape[1] / 2)-60, 60), cv2.FONT_HERSHEY_SIMPLEX, 2, (0, 0, 255), 2, cv2.LINE_AA)\n",
    "           else:\n",
    "               cv2.putText(im, 'Normal', (int(im.shape[1] / 2)-60, 60), cv2.FONT_HERSHEY_SIMPLEX, 2, (0, 255, 255), 2, cv2.LINE_AA)\n",
    "           cv2.imshow('frame', im)\n",
    "           cv2.waitKey(100)"
   ]
  },
  {
   "cell_type": "code",
   "execution_count": 4,
   "metadata": {},
   "outputs": [],
   "source": [
    "annotation = read_anno_file(\"/Users/lucabankofski/Documents/ECE/Cours/PFE_RECHERCHE_VOITURE/Dataset/CarCrash/videos/Crash-1500.txt\")"
   ]
  },
  {
   "cell_type": "code",
   "execution_count": 5,
   "metadata": {},
   "outputs": [],
   "source": [
    "import pandas as pd\n",
    "annotation_df=pd.DataFrame(annotation)"
   ]
  },
  {
   "cell_type": "markdown",
   "metadata": {},
   "source": [
    "la colonne label contiens 50 label qui sont des booléens. 1 donne la frame ou se situe l'accident."
   ]
  },
  {
   "cell_type": "code",
   "execution_count": 6,
   "metadata": {},
   "outputs": [
    {
     "data": {
      "text/html": [
       "<div>\n",
       "<style scoped>\n",
       "    .dataframe tbody tr th:only-of-type {\n",
       "        vertical-align: middle;\n",
       "    }\n",
       "\n",
       "    .dataframe tbody tr th {\n",
       "        vertical-align: top;\n",
       "    }\n",
       "\n",
       "    .dataframe thead th {\n",
       "        text-align: right;\n",
       "    }\n",
       "</style>\n",
       "<table border=\"1\" class=\"dataframe\">\n",
       "  <thead>\n",
       "    <tr style=\"text-align: right;\">\n",
       "      <th></th>\n",
       "      <th>vid</th>\n",
       "      <th>label</th>\n",
       "      <th>startframe</th>\n",
       "      <th>vid_ytb</th>\n",
       "      <th>lighting</th>\n",
       "      <th>weather</th>\n",
       "      <th>ego_involve</th>\n",
       "    </tr>\n",
       "  </thead>\n",
       "  <tbody>\n",
       "    <tr>\n",
       "      <th>0</th>\n",
       "      <td>000001</td>\n",
       "      <td>[0, 0, 0, 0, 0, 0, 0, 0, 0, 0, 0, 0, 0, 0, 0, ...</td>\n",
       "      <td>000285</td>\n",
       "      <td>0000</td>\n",
       "      <td>Day</td>\n",
       "      <td>Normal</td>\n",
       "      <td>Yes</td>\n",
       "    </tr>\n",
       "    <tr>\n",
       "      <th>1</th>\n",
       "      <td>000002</td>\n",
       "      <td>[0, 0, 0, 0, 0, 0, 0, 0, 0, 0, 0, 0, 0, 0, 0, ...</td>\n",
       "      <td>000646</td>\n",
       "      <td>0000</td>\n",
       "      <td>Day</td>\n",
       "      <td>Normal</td>\n",
       "      <td>Yes</td>\n",
       "    </tr>\n",
       "    <tr>\n",
       "      <th>2</th>\n",
       "      <td>000003</td>\n",
       "      <td>[0, 0, 0, 0, 0, 0, 0, 0, 0, 0, 0, 0, 0, 0, 0, ...</td>\n",
       "      <td>000972</td>\n",
       "      <td>0000</td>\n",
       "      <td>Day</td>\n",
       "      <td>Normal</td>\n",
       "      <td>Yes</td>\n",
       "    </tr>\n",
       "    <tr>\n",
       "      <th>3</th>\n",
       "      <td>000004</td>\n",
       "      <td>[0, 0, 0, 0, 0, 0, 0, 0, 0, 0, 0, 0, 0, 0, 0, ...</td>\n",
       "      <td>001257</td>\n",
       "      <td>0000</td>\n",
       "      <td>Day</td>\n",
       "      <td>Normal</td>\n",
       "      <td>Yes</td>\n",
       "    </tr>\n",
       "    <tr>\n",
       "      <th>4</th>\n",
       "      <td>000005</td>\n",
       "      <td>[0, 0, 0, 0, 0, 0, 0, 0, 0, 0, 0, 0, 0, 0, 0, ...</td>\n",
       "      <td>000462</td>\n",
       "      <td>0010</td>\n",
       "      <td>Day</td>\n",
       "      <td>Snowy</td>\n",
       "      <td>Yes</td>\n",
       "    </tr>\n",
       "  </tbody>\n",
       "</table>\n",
       "</div>"
      ],
      "text/plain": [
       "      vid                                              label startframe  \\\n",
       "0  000001  [0, 0, 0, 0, 0, 0, 0, 0, 0, 0, 0, 0, 0, 0, 0, ...     000285   \n",
       "1  000002  [0, 0, 0, 0, 0, 0, 0, 0, 0, 0, 0, 0, 0, 0, 0, ...     000646   \n",
       "2  000003  [0, 0, 0, 0, 0, 0, 0, 0, 0, 0, 0, 0, 0, 0, 0, ...     000972   \n",
       "3  000004  [0, 0, 0, 0, 0, 0, 0, 0, 0, 0, 0, 0, 0, 0, 0, ...     001257   \n",
       "4  000005  [0, 0, 0, 0, 0, 0, 0, 0, 0, 0, 0, 0, 0, 0, 0, ...     000462   \n",
       "\n",
       "  vid_ytb lighting weather ego_involve  \n",
       "0    0000      Day  Normal         Yes  \n",
       "1    0000      Day  Normal         Yes  \n",
       "2    0000      Day  Normal         Yes  \n",
       "3    0000      Day  Normal         Yes  \n",
       "4    0010      Day   Snowy         Yes  "
      ]
     },
     "execution_count": 6,
     "metadata": {},
     "output_type": "execute_result"
    }
   ],
   "source": [
    "annotation_df.head()"
   ]
  },
  {
   "cell_type": "code",
   "execution_count": 10,
   "metadata": {},
   "outputs": [],
   "source": [
    "def read_features_file(file):\n",
    "    #Code to open and read feature in npz files\n",
    "    features = np.load(file)    \n",
    "    return features\n",
    "    "
   ]
  },
  {
   "cell_type": "code",
   "execution_count": 12,
   "metadata": {},
   "outputs": [],
   "source": [
    "np_file=read_features_file(\"/Users/lucabankofski/Documents/ECE/Cours/PFE_RECHERCHE_VOITURE/Dataset/CarCrash/vgg16_features/positive/000004.npz\")"
   ]
  },
  {
   "cell_type": "markdown",
   "metadata": {},
   "source": [
    "- data: Extracted 4096-dim features with shape (50, 20, 4096). It contains frame-level feature with shape (50, 1, 4096) and 19 box-level features with shape (50, 19, 4096).\n",
    "- det: Detected bounding boxes with shape (50, 19, 6), where the last dim denotes (x1, y1, x2, y2, prob, cls).\n",
    "- labels: One-hot video labels to indicate whether the video contains an accident, i.e., [0, 1] denotes positive (accident) and [1, 0] denotes negative (normal).\n",
    "- ID: The video name for current feature file.\n"
   ]
  },
  {
   "cell_type": "code",
   "execution_count": 15,
   "metadata": {},
   "outputs": [
    {
     "data": {
      "text/plain": [
       "['data', 'det', 'labels', 'ID']"
      ]
     },
     "execution_count": 15,
     "metadata": {},
     "output_type": "execute_result"
    }
   ],
   "source": [
    "np_file.files"
   ]
  },
  {
   "cell_type": "code",
   "execution_count": 19,
   "metadata": {},
   "outputs": [
    {
     "data": {
      "text/plain": [
       "array('000004', dtype='<U6')"
      ]
     },
     "execution_count": 19,
     "metadata": {},
     "output_type": "execute_result"
    }
   ],
   "source": [
    "np_file[\"ID\"]"
   ]
  }
 ],
 "metadata": {
  "kernelspec": {
   "display_name": "base",
   "language": "python",
   "name": "python3"
  },
  "language_info": {
   "codemirror_mode": {
    "name": "ipython",
    "version": 3
   },
   "file_extension": ".py",
   "mimetype": "text/x-python",
   "name": "python",
   "nbconvert_exporter": "python",
   "pygments_lexer": "ipython3",
   "version": "3.9.12"
  }
 },
 "nbformat": 4,
 "nbformat_minor": 2
}
