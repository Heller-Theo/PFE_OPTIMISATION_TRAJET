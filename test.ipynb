{
 "cells": [
  {
   "cell_type": "code",
   "execution_count": 1,
   "metadata": {},
   "outputs": [],
   "source": [
    "import os, cv2\n",
    "import numpy as np\n",
    "\n",
    "def read_anno_file(anno_file):\n",
    "    assert os.path.exists(anno_file), \"Annotation file does not exist!\" + anno_file\n",
    "    result = []\n",
    "    with open(anno_file, 'r') as f:\n",
    "        for line in f.readlines():\n",
    "            items = {}\n",
    "            items['vid'] = line.strip().split(',[')[0]\n",
    "            labels = line.strip().split(',[')[1].split('],')[0]\n",
    "            items['label'] = [int(val) for val in labels.split(',')]\n",
    "            others = line.strip().split(',[')[1].split('],')[1].split(',')\n",
    "            items['startframe'], items['vid_ytb'], items['lighting'], items['weather'], items['ego_involve'] = others\n",
    "            result.append(items)\n",
    "    f.close()\n",
    "    return result\n",
    "\n",
    "\n",
    "def get_video_frames(video_file, topN=50):\n",
    "    # get the video data\n",
    "    cap = cv2.VideoCapture(video_file)\n",
    "    ret, frame = cap.read()\n",
    "    video_data = []\n",
    "    while (ret):\n",
    "        video_data.append(frame)\n",
    "        ret, frame = cap.read()\n",
    "    print(\"original # frames: %d\"%(len(video_data)))\n",
    "    assert len(video_data) >= topN\n",
    "    video_data = video_data[:topN]\n",
    "    return video_data\n",
    "\n"
   ]
  },
  {
   "cell_type": "code",
   "execution_count": 298,
   "metadata": {},
   "outputs": [
    {
     "data": {
      "text/plain": [
       "'\"if __name__ == \"__main__\":\\n    anno_file = \"../videos/Crash-1500.txt\"\\n    anno_data = read_anno_file(anno_file)\\n\\n    video_path = \"../videos/Crash-1500\"\\n    for anno in anno_data:\\n        video_file = os.path.join(video_path, anno[\\'vid\\'] + \".mp4\")\\n        assert os.path.exists(video_file), \"video file does not exist!\" + video_file\\n        # read frames\\n        frames = get_video_frames(video_file, topN=50)\\n        labels = anno[\\'label\\']\\n        print(\"file: %s, # frames: %d, # labels: %d.\"%(video_file, len(frames), len(labels)))\\n        print(len(labels))\\n        for idx, im in enumerate(frames):\\n           if labels[idx] == 1:\\n               cv2.putText(im, \\'Accident\\', (int(im.shape[1] / 2)-60, 60), cv2.FONT_HERSHEY_SIMPLEX, 2, (0, 0, 255), 2, cv2.LINE_AA)\\n           else:\\n               cv2.putText(im, \\'Normal\\', (int(im.shape[1] / 2)-60, 60), cv2.FONT_HERSHEY_SIMPLEX, 2, (0, 255, 255), 2, cv2.LINE_AA)\\n           cv2.imshow(\\'frame\\', im)\\n           cv2.waitKey(100)'"
      ]
     },
     "execution_count": 298,
     "metadata": {},
     "output_type": "execute_result"
    }
   ],
   "source": [
    "\n",
    "\"\"\"\"if __name__ == \"__main__\":\n",
    "    anno_file = \"../videos/Crash-1500.txt\"\n",
    "    anno_data = read_anno_file(anno_file)\n",
    "\n",
    "    video_path = \"../videos/Crash-1500\"\n",
    "    for anno in anno_data:\n",
    "        video_file = os.path.join(video_path, anno['vid'] + \".mp4\")\n",
    "        assert os.path.exists(video_file), \"video file does not exist!\" + video_file\n",
    "        # read frames\n",
    "        frames = get_video_frames(video_file, topN=50)\n",
    "        labels = anno['label']\n",
    "        print(\"file: %s, # frames: %d, # labels: %d.\"%(video_file, len(frames), len(labels)))\n",
    "        print(len(labels))\n",
    "        for idx, im in enumerate(frames):\n",
    "           if labels[idx] == 1:\n",
    "               cv2.putText(im, 'Accident', (int(im.shape[1] / 2)-60, 60), cv2.FONT_HERSHEY_SIMPLEX, 2, (0, 0, 255), 2, cv2.LINE_AA)\n",
    "           else:\n",
    "               cv2.putText(im, 'Normal', (int(im.shape[1] / 2)-60, 60), cv2.FONT_HERSHEY_SIMPLEX, 2, (0, 255, 255), 2, cv2.LINE_AA)\n",
    "           cv2.imshow('frame', im)\n",
    "           cv2.waitKey(100)\"\"\"\"\""
   ]
  },
  {
   "cell_type": "code",
   "execution_count": 2,
   "metadata": {},
   "outputs": [],
   "source": [
    "annotation = read_anno_file(\"Dataset/CarCrash/videos/Crash-1500.txt\")"
   ]
  },
  {
   "cell_type": "code",
   "execution_count": 3,
   "metadata": {},
   "outputs": [],
   "source": [
    "import pandas as pd\n",
    "annotation_df=pd.DataFrame(annotation)"
   ]
  },
  {
   "cell_type": "markdown",
   "metadata": {},
   "source": [
    "la colonne label contiens 50 label qui sont des booléens. 1 donne la frame ou se situe l'accident."
   ]
  },
  {
   "cell_type": "code",
   "execution_count": 4,
   "metadata": {},
   "outputs": [
    {
     "data": {
      "text/html": [
       "<div>\n",
       "<style scoped>\n",
       "    .dataframe tbody tr th:only-of-type {\n",
       "        vertical-align: middle;\n",
       "    }\n",
       "\n",
       "    .dataframe tbody tr th {\n",
       "        vertical-align: top;\n",
       "    }\n",
       "\n",
       "    .dataframe thead th {\n",
       "        text-align: right;\n",
       "    }\n",
       "</style>\n",
       "<table border=\"1\" class=\"dataframe\">\n",
       "  <thead>\n",
       "    <tr style=\"text-align: right;\">\n",
       "      <th></th>\n",
       "      <th>vid</th>\n",
       "      <th>label</th>\n",
       "      <th>startframe</th>\n",
       "      <th>vid_ytb</th>\n",
       "      <th>lighting</th>\n",
       "      <th>weather</th>\n",
       "      <th>ego_involve</th>\n",
       "    </tr>\n",
       "  </thead>\n",
       "  <tbody>\n",
       "    <tr>\n",
       "      <th>0</th>\n",
       "      <td>000001</td>\n",
       "      <td>[0, 0, 0, 0, 0, 0, 0, 0, 0, 0, 0, 0, 0, 0, 0, ...</td>\n",
       "      <td>000285</td>\n",
       "      <td>0000</td>\n",
       "      <td>Day</td>\n",
       "      <td>Normal</td>\n",
       "      <td>Yes</td>\n",
       "    </tr>\n",
       "    <tr>\n",
       "      <th>1</th>\n",
       "      <td>000002</td>\n",
       "      <td>[0, 0, 0, 0, 0, 0, 0, 0, 0, 0, 0, 0, 0, 0, 0, ...</td>\n",
       "      <td>000646</td>\n",
       "      <td>0000</td>\n",
       "      <td>Day</td>\n",
       "      <td>Normal</td>\n",
       "      <td>Yes</td>\n",
       "    </tr>\n",
       "    <tr>\n",
       "      <th>2</th>\n",
       "      <td>000003</td>\n",
       "      <td>[0, 0, 0, 0, 0, 0, 0, 0, 0, 0, 0, 0, 0, 0, 0, ...</td>\n",
       "      <td>000972</td>\n",
       "      <td>0000</td>\n",
       "      <td>Day</td>\n",
       "      <td>Normal</td>\n",
       "      <td>Yes</td>\n",
       "    </tr>\n",
       "    <tr>\n",
       "      <th>3</th>\n",
       "      <td>000004</td>\n",
       "      <td>[0, 0, 0, 0, 0, 0, 0, 0, 0, 0, 0, 0, 0, 0, 0, ...</td>\n",
       "      <td>001257</td>\n",
       "      <td>0000</td>\n",
       "      <td>Day</td>\n",
       "      <td>Normal</td>\n",
       "      <td>Yes</td>\n",
       "    </tr>\n",
       "    <tr>\n",
       "      <th>4</th>\n",
       "      <td>000005</td>\n",
       "      <td>[0, 0, 0, 0, 0, 0, 0, 0, 0, 0, 0, 0, 0, 0, 0, ...</td>\n",
       "      <td>000462</td>\n",
       "      <td>0010</td>\n",
       "      <td>Day</td>\n",
       "      <td>Snowy</td>\n",
       "      <td>Yes</td>\n",
       "    </tr>\n",
       "  </tbody>\n",
       "</table>\n",
       "</div>"
      ],
      "text/plain": [
       "      vid                                              label startframe  \\\n",
       "0  000001  [0, 0, 0, 0, 0, 0, 0, 0, 0, 0, 0, 0, 0, 0, 0, ...     000285   \n",
       "1  000002  [0, 0, 0, 0, 0, 0, 0, 0, 0, 0, 0, 0, 0, 0, 0, ...     000646   \n",
       "2  000003  [0, 0, 0, 0, 0, 0, 0, 0, 0, 0, 0, 0, 0, 0, 0, ...     000972   \n",
       "3  000004  [0, 0, 0, 0, 0, 0, 0, 0, 0, 0, 0, 0, 0, 0, 0, ...     001257   \n",
       "4  000005  [0, 0, 0, 0, 0, 0, 0, 0, 0, 0, 0, 0, 0, 0, 0, ...     000462   \n",
       "\n",
       "  vid_ytb lighting weather ego_involve  \n",
       "0    0000      Day  Normal         Yes  \n",
       "1    0000      Day  Normal         Yes  \n",
       "2    0000      Day  Normal         Yes  \n",
       "3    0000      Day  Normal         Yes  \n",
       "4    0010      Day   Snowy         Yes  "
      ]
     },
     "execution_count": 4,
     "metadata": {},
     "output_type": "execute_result"
    }
   ],
   "source": [
    "annotation_df.head()"
   ]
  },
  {
   "cell_type": "code",
   "execution_count": 5,
   "metadata": {},
   "outputs": [],
   "source": [
    "def get_accident_frame(row):\n",
    "    return row[\"label\"].index(1)\n",
    "\n",
    "annotation_df[\"accident_frame\"]=annotation_df.apply(get_accident_frame,axis=1)\n"
   ]
  },
  {
   "cell_type": "code",
   "execution_count": 6,
   "metadata": {},
   "outputs": [
    {
     "data": {
      "text/plain": [
       "count    1500.000000\n",
       "mean       37.189333\n",
       "std         5.787557\n",
       "min        30.000000\n",
       "25%        32.000000\n",
       "50%        36.000000\n",
       "75%        42.000000\n",
       "max        49.000000\n",
       "Name: accident_frame, dtype: float64"
      ]
     },
     "execution_count": 6,
     "metadata": {},
     "output_type": "execute_result"
    }
   ],
   "source": [
    "annotation_df[\"accident_frame\"].describe()"
   ]
  },
  {
   "cell_type": "code",
   "execution_count": 7,
   "metadata": {},
   "outputs": [
    {
     "data": {
      "text/html": [
       "<div>\n",
       "<style scoped>\n",
       "    .dataframe tbody tr th:only-of-type {\n",
       "        vertical-align: middle;\n",
       "    }\n",
       "\n",
       "    .dataframe tbody tr th {\n",
       "        vertical-align: top;\n",
       "    }\n",
       "\n",
       "    .dataframe thead th {\n",
       "        text-align: right;\n",
       "    }\n",
       "</style>\n",
       "<table border=\"1\" class=\"dataframe\">\n",
       "  <thead>\n",
       "    <tr style=\"text-align: right;\">\n",
       "      <th></th>\n",
       "      <th>vid</th>\n",
       "      <th>label</th>\n",
       "      <th>startframe</th>\n",
       "      <th>vid_ytb</th>\n",
       "      <th>lighting</th>\n",
       "      <th>weather</th>\n",
       "      <th>ego_involve</th>\n",
       "      <th>accident_frame</th>\n",
       "    </tr>\n",
       "  </thead>\n",
       "  <tbody>\n",
       "    <tr>\n",
       "      <th>0</th>\n",
       "      <td>000001</td>\n",
       "      <td>[0, 0, 0, 0, 0, 0, 0, 0, 0, 0, 0, 0, 0, 0, 0, ...</td>\n",
       "      <td>000285</td>\n",
       "      <td>0000</td>\n",
       "      <td>Day</td>\n",
       "      <td>Normal</td>\n",
       "      <td>Yes</td>\n",
       "      <td>32</td>\n",
       "    </tr>\n",
       "    <tr>\n",
       "      <th>1</th>\n",
       "      <td>000002</td>\n",
       "      <td>[0, 0, 0, 0, 0, 0, 0, 0, 0, 0, 0, 0, 0, 0, 0, ...</td>\n",
       "      <td>000646</td>\n",
       "      <td>0000</td>\n",
       "      <td>Day</td>\n",
       "      <td>Normal</td>\n",
       "      <td>Yes</td>\n",
       "      <td>30</td>\n",
       "    </tr>\n",
       "    <tr>\n",
       "      <th>2</th>\n",
       "      <td>000003</td>\n",
       "      <td>[0, 0, 0, 0, 0, 0, 0, 0, 0, 0, 0, 0, 0, 0, 0, ...</td>\n",
       "      <td>000972</td>\n",
       "      <td>0000</td>\n",
       "      <td>Day</td>\n",
       "      <td>Normal</td>\n",
       "      <td>Yes</td>\n",
       "      <td>31</td>\n",
       "    </tr>\n",
       "    <tr>\n",
       "      <th>3</th>\n",
       "      <td>000004</td>\n",
       "      <td>[0, 0, 0, 0, 0, 0, 0, 0, 0, 0, 0, 0, 0, 0, 0, ...</td>\n",
       "      <td>001257</td>\n",
       "      <td>0000</td>\n",
       "      <td>Day</td>\n",
       "      <td>Normal</td>\n",
       "      <td>Yes</td>\n",
       "      <td>41</td>\n",
       "    </tr>\n",
       "    <tr>\n",
       "      <th>4</th>\n",
       "      <td>000005</td>\n",
       "      <td>[0, 0, 0, 0, 0, 0, 0, 0, 0, 0, 0, 0, 0, 0, 0, ...</td>\n",
       "      <td>000462</td>\n",
       "      <td>0010</td>\n",
       "      <td>Day</td>\n",
       "      <td>Snowy</td>\n",
       "      <td>Yes</td>\n",
       "      <td>30</td>\n",
       "    </tr>\n",
       "  </tbody>\n",
       "</table>\n",
       "</div>"
      ],
      "text/plain": [
       "      vid                                              label startframe  \\\n",
       "0  000001  [0, 0, 0, 0, 0, 0, 0, 0, 0, 0, 0, 0, 0, 0, 0, ...     000285   \n",
       "1  000002  [0, 0, 0, 0, 0, 0, 0, 0, 0, 0, 0, 0, 0, 0, 0, ...     000646   \n",
       "2  000003  [0, 0, 0, 0, 0, 0, 0, 0, 0, 0, 0, 0, 0, 0, 0, ...     000972   \n",
       "3  000004  [0, 0, 0, 0, 0, 0, 0, 0, 0, 0, 0, 0, 0, 0, 0, ...     001257   \n",
       "4  000005  [0, 0, 0, 0, 0, 0, 0, 0, 0, 0, 0, 0, 0, 0, 0, ...     000462   \n",
       "\n",
       "  vid_ytb lighting weather ego_involve  accident_frame  \n",
       "0    0000      Day  Normal         Yes              32  \n",
       "1    0000      Day  Normal         Yes              30  \n",
       "2    0000      Day  Normal         Yes              31  \n",
       "3    0000      Day  Normal         Yes              41  \n",
       "4    0010      Day   Snowy         Yes              30  "
      ]
     },
     "execution_count": 7,
     "metadata": {},
     "output_type": "execute_result"
    }
   ],
   "source": [
    "annotation_df.head()"
   ]
  },
  {
   "cell_type": "code",
   "execution_count": 8,
   "metadata": {},
   "outputs": [
    {
     "data": {
      "text/plain": [
       "ego_involve\n",
       "Yes    801\n",
       "No     699\n",
       "Name: count, dtype: int64"
      ]
     },
     "execution_count": 8,
     "metadata": {},
     "output_type": "execute_result"
    }
   ],
   "source": [
    "annotation_df.ego_involve.value_counts()"
   ]
  },
  {
   "cell_type": "markdown",
   "metadata": {},
   "source": [
    "On fait le choix de ne garder que les voitures qui sont elles même dans un accident."
   ]
  },
  {
   "cell_type": "code",
   "execution_count": null,
   "metadata": {},
   "outputs": [],
   "source": []
  },
  {
   "cell_type": "code",
   "execution_count": 9,
   "metadata": {},
   "outputs": [
    {
     "data": {
      "text/plain": [
       "(801, 8)"
      ]
     },
     "execution_count": 9,
     "metadata": {},
     "output_type": "execute_result"
    }
   ],
   "source": [
    "annotation_df_reduced = annotation_df[annotation_df.ego_involve==\"Yes\"]\n",
    "\n",
    "annotation_df_reduced.shape"
   ]
  },
  {
   "cell_type": "code",
   "execution_count": 10,
   "metadata": {},
   "outputs": [
    {
     "name": "stderr",
     "output_type": "stream",
     "text": [
      "/var/folders/88/07qx0wt566bgy_rrcgckgl0r0000gn/T/ipykernel_96710/2177464081.py:2: SettingWithCopyWarning: \n",
      "A value is trying to be set on a copy of a slice from a DataFrame.\n",
      "Try using .loc[row_indexer,col_indexer] = value instead\n",
      "\n",
      "See the caveats in the documentation: https://pandas.pydata.org/pandas-docs/stable/user_guide/indexing.html#returning-a-view-versus-a-copy\n",
      "  annotation_df_reduced[\"accident\"]=1\n"
     ]
    }
   ],
   "source": [
    "annotation_df_reduced=annotation_df[[\"vid\",\"label\",\"accident_frame\",\"ego_involve\"]]\n",
    "annotation_df_reduced[\"accident\"]=1"
   ]
  },
  {
   "cell_type": "code",
   "execution_count": 11,
   "metadata": {},
   "outputs": [
    {
     "data": {
      "text/html": [
       "<div>\n",
       "<style scoped>\n",
       "    .dataframe tbody tr th:only-of-type {\n",
       "        vertical-align: middle;\n",
       "    }\n",
       "\n",
       "    .dataframe tbody tr th {\n",
       "        vertical-align: top;\n",
       "    }\n",
       "\n",
       "    .dataframe thead th {\n",
       "        text-align: right;\n",
       "    }\n",
       "</style>\n",
       "<table border=\"1\" class=\"dataframe\">\n",
       "  <thead>\n",
       "    <tr style=\"text-align: right;\">\n",
       "      <th></th>\n",
       "      <th>vid</th>\n",
       "      <th>label</th>\n",
       "      <th>accident_frame</th>\n",
       "      <th>ego_involve</th>\n",
       "      <th>accident</th>\n",
       "    </tr>\n",
       "  </thead>\n",
       "  <tbody>\n",
       "    <tr>\n",
       "      <th>0</th>\n",
       "      <td>000001</td>\n",
       "      <td>[0, 0, 0, 0, 0, 0, 0, 0, 0, 0, 0, 0, 0, 0, 0, ...</td>\n",
       "      <td>32</td>\n",
       "      <td>Yes</td>\n",
       "      <td>1</td>\n",
       "    </tr>\n",
       "    <tr>\n",
       "      <th>1</th>\n",
       "      <td>000002</td>\n",
       "      <td>[0, 0, 0, 0, 0, 0, 0, 0, 0, 0, 0, 0, 0, 0, 0, ...</td>\n",
       "      <td>30</td>\n",
       "      <td>Yes</td>\n",
       "      <td>1</td>\n",
       "    </tr>\n",
       "    <tr>\n",
       "      <th>2</th>\n",
       "      <td>000003</td>\n",
       "      <td>[0, 0, 0, 0, 0, 0, 0, 0, 0, 0, 0, 0, 0, 0, 0, ...</td>\n",
       "      <td>31</td>\n",
       "      <td>Yes</td>\n",
       "      <td>1</td>\n",
       "    </tr>\n",
       "    <tr>\n",
       "      <th>3</th>\n",
       "      <td>000004</td>\n",
       "      <td>[0, 0, 0, 0, 0, 0, 0, 0, 0, 0, 0, 0, 0, 0, 0, ...</td>\n",
       "      <td>41</td>\n",
       "      <td>Yes</td>\n",
       "      <td>1</td>\n",
       "    </tr>\n",
       "    <tr>\n",
       "      <th>4</th>\n",
       "      <td>000005</td>\n",
       "      <td>[0, 0, 0, 0, 0, 0, 0, 0, 0, 0, 0, 0, 0, 0, 0, ...</td>\n",
       "      <td>30</td>\n",
       "      <td>Yes</td>\n",
       "      <td>1</td>\n",
       "    </tr>\n",
       "  </tbody>\n",
       "</table>\n",
       "</div>"
      ],
      "text/plain": [
       "      vid                                              label  accident_frame  \\\n",
       "0  000001  [0, 0, 0, 0, 0, 0, 0, 0, 0, 0, 0, 0, 0, 0, 0, ...              32   \n",
       "1  000002  [0, 0, 0, 0, 0, 0, 0, 0, 0, 0, 0, 0, 0, 0, 0, ...              30   \n",
       "2  000003  [0, 0, 0, 0, 0, 0, 0, 0, 0, 0, 0, 0, 0, 0, 0, ...              31   \n",
       "3  000004  [0, 0, 0, 0, 0, 0, 0, 0, 0, 0, 0, 0, 0, 0, 0, ...              41   \n",
       "4  000005  [0, 0, 0, 0, 0, 0, 0, 0, 0, 0, 0, 0, 0, 0, 0, ...              30   \n",
       "\n",
       "  ego_involve  accident  \n",
       "0         Yes         1  \n",
       "1         Yes         1  \n",
       "2         Yes         1  \n",
       "3         Yes         1  \n",
       "4         Yes         1  "
      ]
     },
     "execution_count": 11,
     "metadata": {},
     "output_type": "execute_result"
    }
   ],
   "source": [
    "annotation_df_reduced.head()"
   ]
  },
  {
   "cell_type": "code",
   "execution_count": 12,
   "metadata": {},
   "outputs": [],
   "source": [
    "def read_features_file(file):\n",
    "    #Code to open and read feature in npz files\n",
    "    features = np.load(file)    \n",
    "    return features\n",
    "    "
   ]
  },
  {
   "cell_type": "markdown",
   "metadata": {},
   "source": [
    "- data: Extracted 4096-dim features with shape (50, 20, 4096). It contains frame-level feature with shape (50, 1, 4096) and 19 box-level features with shape (50, 19, 4096).\n",
    "- det: Detected bounding boxes with shape (50, 19, 6), where the last dim denotes (x1, y1, x2, y2, prob, cls).\n",
    "- labels: One-hot video labels to indicate whether the video contains an accident, i.e., [0, 1] denotes positive (accident) and [1, 0] denotes negative (normal).\n",
    "- ID: The video name for current feature file.\n"
   ]
  },
  {
   "cell_type": "code",
   "execution_count": 13,
   "metadata": {},
   "outputs": [],
   "source": [
    "np_file=read_features_file(\"Dataset/CarCrash/vgg16_features/positive/000004.npz\")"
   ]
  },
  {
   "cell_type": "code",
   "execution_count": 14,
   "metadata": {},
   "outputs": [
    {
     "data": {
      "text/plain": [
       "['data', 'det', 'labels', 'ID']"
      ]
     },
     "execution_count": 14,
     "metadata": {},
     "output_type": "execute_result"
    }
   ],
   "source": [
    "np_file.files"
   ]
  },
  {
   "cell_type": "code",
   "execution_count": 15,
   "metadata": {},
   "outputs": [
    {
     "data": {
      "text/plain": [
       "(2,)"
      ]
     },
     "execution_count": 15,
     "metadata": {},
     "output_type": "execute_result"
    }
   ],
   "source": [
    "np_file[\"labels\"].shape"
   ]
  },
  {
   "cell_type": "code",
   "execution_count": 16,
   "metadata": {},
   "outputs": [
    {
     "data": {
      "text/plain": [
       "array([0, 1])"
      ]
     },
     "execution_count": 16,
     "metadata": {},
     "output_type": "execute_result"
    }
   ],
   "source": [
    "np_file[\"labels\"]"
   ]
  },
  {
   "cell_type": "code",
   "execution_count": 17,
   "metadata": {},
   "outputs": [
    {
     "data": {
      "text/html": [
       "<div>\n",
       "<style scoped>\n",
       "    .dataframe tbody tr th:only-of-type {\n",
       "        vertical-align: middle;\n",
       "    }\n",
       "\n",
       "    .dataframe tbody tr th {\n",
       "        vertical-align: top;\n",
       "    }\n",
       "\n",
       "    .dataframe thead th {\n",
       "        text-align: right;\n",
       "    }\n",
       "</style>\n",
       "<table border=\"1\" class=\"dataframe\">\n",
       "  <thead>\n",
       "    <tr style=\"text-align: right;\">\n",
       "      <th></th>\n",
       "      <th>npz_file</th>\n",
       "      <th>label</th>\n",
       "    </tr>\n",
       "  </thead>\n",
       "  <tbody>\n",
       "    <tr>\n",
       "      <th>0</th>\n",
       "      <td>positive/000353.npz</td>\n",
       "      <td>1</td>\n",
       "    </tr>\n",
       "    <tr>\n",
       "      <th>1</th>\n",
       "      <td>positive/000849.npz</td>\n",
       "      <td>1</td>\n",
       "    </tr>\n",
       "    <tr>\n",
       "      <th>2</th>\n",
       "      <td>negative/001320.npz</td>\n",
       "      <td>0</td>\n",
       "    </tr>\n",
       "    <tr>\n",
       "      <th>3</th>\n",
       "      <td>negative/000210.npz</td>\n",
       "      <td>0</td>\n",
       "    </tr>\n",
       "    <tr>\n",
       "      <th>4</th>\n",
       "      <td>negative/002373.npz</td>\n",
       "      <td>0</td>\n",
       "    </tr>\n",
       "  </tbody>\n",
       "</table>\n",
       "</div>"
      ],
      "text/plain": [
       "              npz_file  label\n",
       "0  positive/000353.npz      1\n",
       "1  positive/000849.npz      1\n",
       "2  negative/001320.npz      0\n",
       "3  negative/000210.npz      0\n",
       "4  negative/002373.npz      0"
      ]
     },
     "execution_count": 17,
     "metadata": {},
     "output_type": "execute_result"
    }
   ],
   "source": [
    "df_test=pd.read_csv(\"Dataset/CarCrash/vgg16_features/test.txt\", sep=\" \", header=None)\n",
    "df_test.columns=[\"npz_file\",\"label\"]\n",
    "df_test.head()"
   ]
  },
  {
   "cell_type": "code",
   "execution_count": 18,
   "metadata": {},
   "outputs": [
    {
     "data": {
      "text/html": [
       "<div>\n",
       "<style scoped>\n",
       "    .dataframe tbody tr th:only-of-type {\n",
       "        vertical-align: middle;\n",
       "    }\n",
       "\n",
       "    .dataframe tbody tr th {\n",
       "        vertical-align: top;\n",
       "    }\n",
       "\n",
       "    .dataframe thead th {\n",
       "        text-align: right;\n",
       "    }\n",
       "</style>\n",
       "<table border=\"1\" class=\"dataframe\">\n",
       "  <thead>\n",
       "    <tr style=\"text-align: right;\">\n",
       "      <th></th>\n",
       "      <th>npz_file</th>\n",
       "      <th>label</th>\n",
       "    </tr>\n",
       "  </thead>\n",
       "  <tbody>\n",
       "    <tr>\n",
       "      <th>0</th>\n",
       "      <td>negative/001355.npz</td>\n",
       "      <td>0</td>\n",
       "    </tr>\n",
       "    <tr>\n",
       "      <th>1</th>\n",
       "      <td>negative/002192.npz</td>\n",
       "      <td>0</td>\n",
       "    </tr>\n",
       "    <tr>\n",
       "      <th>2</th>\n",
       "      <td>negative/002082.npz</td>\n",
       "      <td>0</td>\n",
       "    </tr>\n",
       "    <tr>\n",
       "      <th>3</th>\n",
       "      <td>negative/000754.npz</td>\n",
       "      <td>0</td>\n",
       "    </tr>\n",
       "    <tr>\n",
       "      <th>4</th>\n",
       "      <td>positive/000713.npz</td>\n",
       "      <td>1</td>\n",
       "    </tr>\n",
       "  </tbody>\n",
       "</table>\n",
       "</div>"
      ],
      "text/plain": [
       "              npz_file  label\n",
       "0  negative/001355.npz      0\n",
       "1  negative/002192.npz      0\n",
       "2  negative/002082.npz      0\n",
       "3  negative/000754.npz      0\n",
       "4  positive/000713.npz      1"
      ]
     },
     "execution_count": 18,
     "metadata": {},
     "output_type": "execute_result"
    }
   ],
   "source": [
    "df_train=pd.read_csv(\"Dataset/CarCrash/vgg16_features/train.txt\", sep=\" \", header=None)\n",
    "df_train.columns=[\"npz_file\",\"label\"]\n",
    "df_train.head()\n"
   ]
  },
  {
   "cell_type": "code",
   "execution_count": 19,
   "metadata": {},
   "outputs": [
    {
     "data": {
      "text/plain": [
       "(3600, 2)"
      ]
     },
     "metadata": {},
     "output_type": "display_data"
    },
    {
     "data": {
      "text/plain": [
       "(900, 2)"
      ]
     },
     "execution_count": 19,
     "metadata": {},
     "output_type": "execute_result"
    }
   ],
   "source": [
    "display(df_train.shape)\n",
    "df_test.shape"
   ]
  },
  {
   "cell_type": "code",
   "execution_count": 20,
   "metadata": {},
   "outputs": [],
   "source": [
    "df=pd.concat([df_train,df_test])"
   ]
  },
  {
   "cell_type": "code",
   "execution_count": 21,
   "metadata": {},
   "outputs": [
    {
     "data": {
      "text/html": [
       "<div>\n",
       "<style scoped>\n",
       "    .dataframe tbody tr th:only-of-type {\n",
       "        vertical-align: middle;\n",
       "    }\n",
       "\n",
       "    .dataframe tbody tr th {\n",
       "        vertical-align: top;\n",
       "    }\n",
       "\n",
       "    .dataframe thead th {\n",
       "        text-align: right;\n",
       "    }\n",
       "</style>\n",
       "<table border=\"1\" class=\"dataframe\">\n",
       "  <thead>\n",
       "    <tr style=\"text-align: right;\">\n",
       "      <th></th>\n",
       "      <th>npz_file</th>\n",
       "      <th>label</th>\n",
       "      <th>video_file</th>\n",
       "    </tr>\n",
       "  </thead>\n",
       "  <tbody>\n",
       "    <tr>\n",
       "      <th>0</th>\n",
       "      <td>negative/001355.npz</td>\n",
       "      <td>0</td>\n",
       "      <td>001355</td>\n",
       "    </tr>\n",
       "    <tr>\n",
       "      <th>1</th>\n",
       "      <td>negative/002192.npz</td>\n",
       "      <td>0</td>\n",
       "      <td>002192</td>\n",
       "    </tr>\n",
       "    <tr>\n",
       "      <th>2</th>\n",
       "      <td>negative/002082.npz</td>\n",
       "      <td>0</td>\n",
       "      <td>002082</td>\n",
       "    </tr>\n",
       "    <tr>\n",
       "      <th>3</th>\n",
       "      <td>negative/000754.npz</td>\n",
       "      <td>0</td>\n",
       "      <td>000754</td>\n",
       "    </tr>\n",
       "    <tr>\n",
       "      <th>4</th>\n",
       "      <td>positive/000713.npz</td>\n",
       "      <td>1</td>\n",
       "      <td>000713</td>\n",
       "    </tr>\n",
       "  </tbody>\n",
       "</table>\n",
       "</div>"
      ],
      "text/plain": [
       "              npz_file  label video_file\n",
       "0  negative/001355.npz      0     001355\n",
       "1  negative/002192.npz      0     002192\n",
       "2  negative/002082.npz      0     002082\n",
       "3  negative/000754.npz      0     000754\n",
       "4  positive/000713.npz      1     000713"
      ]
     },
     "execution_count": 21,
     "metadata": {},
     "output_type": "execute_result"
    }
   ],
   "source": [
    "df[\"video_file\"]=df[\"npz_file\"].apply(lambda x: x.split(\"/\")[-1].split(\".\")[0])\n",
    "\n",
    "df.head()\n"
   ]
  },
  {
   "cell_type": "code",
   "execution_count": 22,
   "metadata": {},
   "outputs": [
    {
     "data": {
      "text/html": [
       "<div>\n",
       "<style scoped>\n",
       "    .dataframe tbody tr th:only-of-type {\n",
       "        vertical-align: middle;\n",
       "    }\n",
       "\n",
       "    .dataframe tbody tr th {\n",
       "        vertical-align: top;\n",
       "    }\n",
       "\n",
       "    .dataframe thead th {\n",
       "        text-align: right;\n",
       "    }\n",
       "</style>\n",
       "<table border=\"1\" class=\"dataframe\">\n",
       "  <thead>\n",
       "    <tr style=\"text-align: right;\">\n",
       "      <th></th>\n",
       "      <th>npz_file</th>\n",
       "      <th>label</th>\n",
       "      <th>video_file</th>\n",
       "      <th>video_path</th>\n",
       "    </tr>\n",
       "  </thead>\n",
       "  <tbody>\n",
       "    <tr>\n",
       "      <th>0</th>\n",
       "      <td>negative/001355.npz</td>\n",
       "      <td>0</td>\n",
       "      <td>001355</td>\n",
       "      <td>Dataset/CarCrash/videos/Normal/001355.mp4</td>\n",
       "    </tr>\n",
       "    <tr>\n",
       "      <th>1</th>\n",
       "      <td>negative/002192.npz</td>\n",
       "      <td>0</td>\n",
       "      <td>002192</td>\n",
       "      <td>Dataset/CarCrash/videos/Normal/002192.mp4</td>\n",
       "    </tr>\n",
       "    <tr>\n",
       "      <th>2</th>\n",
       "      <td>negative/002082.npz</td>\n",
       "      <td>0</td>\n",
       "      <td>002082</td>\n",
       "      <td>Dataset/CarCrash/videos/Normal/002082.mp4</td>\n",
       "    </tr>\n",
       "    <tr>\n",
       "      <th>3</th>\n",
       "      <td>negative/000754.npz</td>\n",
       "      <td>0</td>\n",
       "      <td>000754</td>\n",
       "      <td>Dataset/CarCrash/videos/Normal/000754.mp4</td>\n",
       "    </tr>\n",
       "    <tr>\n",
       "      <th>4</th>\n",
       "      <td>positive/000713.npz</td>\n",
       "      <td>1</td>\n",
       "      <td>000713</td>\n",
       "      <td>Dataset/CarCrash/videos/Crash-1500/000713.mp4</td>\n",
       "    </tr>\n",
       "  </tbody>\n",
       "</table>\n",
       "</div>"
      ],
      "text/plain": [
       "              npz_file  label video_file  \\\n",
       "0  negative/001355.npz      0     001355   \n",
       "1  negative/002192.npz      0     002192   \n",
       "2  negative/002082.npz      0     002082   \n",
       "3  negative/000754.npz      0     000754   \n",
       "4  positive/000713.npz      1     000713   \n",
       "\n",
       "                                      video_path  \n",
       "0      Dataset/CarCrash/videos/Normal/001355.mp4  \n",
       "1      Dataset/CarCrash/videos/Normal/002192.mp4  \n",
       "2      Dataset/CarCrash/videos/Normal/002082.mp4  \n",
       "3      Dataset/CarCrash/videos/Normal/000754.mp4  \n",
       "4  Dataset/CarCrash/videos/Crash-1500/000713.mp4  "
      ]
     },
     "execution_count": 22,
     "metadata": {},
     "output_type": "execute_result"
    }
   ],
   "source": [
    "df[\"video_path\"] = df.apply(lambda x: \"Dataset/CarCrash/videos/Crash-1500/\" + x[\"video_file\"] + \".mp4\" if x[\"label\"] == 1 else \"Dataset/CarCrash/videos/Normal/\" + x[\"video_file\"] + \".mp4\", axis=1)\n",
    "\n",
    "df.head()   "
   ]
  },
  {
   "cell_type": "code",
   "execution_count": 23,
   "metadata": {},
   "outputs": [
    {
     "data": {
      "text/plain": [
       "label\n",
       "0    3000\n",
       "1    1500\n",
       "Name: count, dtype: int64"
      ]
     },
     "execution_count": 23,
     "metadata": {},
     "output_type": "execute_result"
    }
   ],
   "source": [
    "df.label.value_counts()"
   ]
  },
  {
   "cell_type": "code",
   "execution_count": 24,
   "metadata": {},
   "outputs": [],
   "source": [
    "df=df.merge(annotation_df_reduced, left_on=[\"video_file\",\"label\"],right_on=[\"vid\",\"accident\"], how=\"left\")"
   ]
  },
  {
   "cell_type": "code",
   "execution_count": 25,
   "metadata": {},
   "outputs": [
    {
     "data": {
      "text/plain": [
       "count    1500.000000\n",
       "mean       37.189333\n",
       "std         5.787557\n",
       "min        30.000000\n",
       "25%        32.000000\n",
       "50%        36.000000\n",
       "75%        42.000000\n",
       "max        49.000000\n",
       "Name: accident_frame, dtype: float64"
      ]
     },
     "execution_count": 25,
     "metadata": {},
     "output_type": "execute_result"
    }
   ],
   "source": [
    "df[df[\"accident\"]==1].accident_frame.describe()\n"
   ]
  },
  {
   "cell_type": "code",
   "execution_count": 26,
   "metadata": {},
   "outputs": [
    {
     "data": {
      "text/html": [
       "<div>\n",
       "<style scoped>\n",
       "    .dataframe tbody tr th:only-of-type {\n",
       "        vertical-align: middle;\n",
       "    }\n",
       "\n",
       "    .dataframe tbody tr th {\n",
       "        vertical-align: top;\n",
       "    }\n",
       "\n",
       "    .dataframe thead th {\n",
       "        text-align: right;\n",
       "    }\n",
       "</style>\n",
       "<table border=\"1\" class=\"dataframe\">\n",
       "  <thead>\n",
       "    <tr style=\"text-align: right;\">\n",
       "      <th></th>\n",
       "      <th>npz_file</th>\n",
       "      <th>label_x</th>\n",
       "      <th>video_file</th>\n",
       "      <th>video_path</th>\n",
       "      <th>vid</th>\n",
       "      <th>label_y</th>\n",
       "      <th>accident_frame</th>\n",
       "      <th>ego_involve</th>\n",
       "      <th>accident</th>\n",
       "    </tr>\n",
       "  </thead>\n",
       "  <tbody>\n",
       "    <tr>\n",
       "      <th>0</th>\n",
       "      <td>negative/001355.npz</td>\n",
       "      <td>0</td>\n",
       "      <td>001355</td>\n",
       "      <td>Dataset/CarCrash/videos/Normal/001355.mp4</td>\n",
       "      <td>NaN</td>\n",
       "      <td>NaN</td>\n",
       "      <td>NaN</td>\n",
       "      <td>NaN</td>\n",
       "      <td>NaN</td>\n",
       "    </tr>\n",
       "    <tr>\n",
       "      <th>1</th>\n",
       "      <td>negative/002192.npz</td>\n",
       "      <td>0</td>\n",
       "      <td>002192</td>\n",
       "      <td>Dataset/CarCrash/videos/Normal/002192.mp4</td>\n",
       "      <td>NaN</td>\n",
       "      <td>NaN</td>\n",
       "      <td>NaN</td>\n",
       "      <td>NaN</td>\n",
       "      <td>NaN</td>\n",
       "    </tr>\n",
       "    <tr>\n",
       "      <th>2</th>\n",
       "      <td>negative/002082.npz</td>\n",
       "      <td>0</td>\n",
       "      <td>002082</td>\n",
       "      <td>Dataset/CarCrash/videos/Normal/002082.mp4</td>\n",
       "      <td>NaN</td>\n",
       "      <td>NaN</td>\n",
       "      <td>NaN</td>\n",
       "      <td>NaN</td>\n",
       "      <td>NaN</td>\n",
       "    </tr>\n",
       "    <tr>\n",
       "      <th>3</th>\n",
       "      <td>negative/000754.npz</td>\n",
       "      <td>0</td>\n",
       "      <td>000754</td>\n",
       "      <td>Dataset/CarCrash/videos/Normal/000754.mp4</td>\n",
       "      <td>NaN</td>\n",
       "      <td>NaN</td>\n",
       "      <td>NaN</td>\n",
       "      <td>NaN</td>\n",
       "      <td>NaN</td>\n",
       "    </tr>\n",
       "    <tr>\n",
       "      <th>4</th>\n",
       "      <td>positive/000713.npz</td>\n",
       "      <td>1</td>\n",
       "      <td>000713</td>\n",
       "      <td>Dataset/CarCrash/videos/Crash-1500/000713.mp4</td>\n",
       "      <td>000713</td>\n",
       "      <td>[0, 0, 0, 0, 0, 0, 0, 0, 0, 0, 0, 0, 0, 0, 0, ...</td>\n",
       "      <td>41.0</td>\n",
       "      <td>No</td>\n",
       "      <td>1.0</td>\n",
       "    </tr>\n",
       "    <tr>\n",
       "      <th>...</th>\n",
       "      <td>...</td>\n",
       "      <td>...</td>\n",
       "      <td>...</td>\n",
       "      <td>...</td>\n",
       "      <td>...</td>\n",
       "      <td>...</td>\n",
       "      <td>...</td>\n",
       "      <td>...</td>\n",
       "      <td>...</td>\n",
       "    </tr>\n",
       "    <tr>\n",
       "      <th>4495</th>\n",
       "      <td>negative/002476.npz</td>\n",
       "      <td>0</td>\n",
       "      <td>002476</td>\n",
       "      <td>Dataset/CarCrash/videos/Normal/002476.mp4</td>\n",
       "      <td>NaN</td>\n",
       "      <td>NaN</td>\n",
       "      <td>NaN</td>\n",
       "      <td>NaN</td>\n",
       "      <td>NaN</td>\n",
       "    </tr>\n",
       "    <tr>\n",
       "      <th>4496</th>\n",
       "      <td>positive/000561.npz</td>\n",
       "      <td>1</td>\n",
       "      <td>000561</td>\n",
       "      <td>Dataset/CarCrash/videos/Crash-1500/000561.mp4</td>\n",
       "      <td>000561</td>\n",
       "      <td>[0, 0, 0, 0, 0, 0, 0, 0, 0, 0, 0, 0, 0, 0, 0, ...</td>\n",
       "      <td>39.0</td>\n",
       "      <td>Yes</td>\n",
       "      <td>1.0</td>\n",
       "    </tr>\n",
       "    <tr>\n",
       "      <th>4497</th>\n",
       "      <td>negative/001092.npz</td>\n",
       "      <td>0</td>\n",
       "      <td>001092</td>\n",
       "      <td>Dataset/CarCrash/videos/Normal/001092.mp4</td>\n",
       "      <td>NaN</td>\n",
       "      <td>NaN</td>\n",
       "      <td>NaN</td>\n",
       "      <td>NaN</td>\n",
       "      <td>NaN</td>\n",
       "    </tr>\n",
       "    <tr>\n",
       "      <th>4498</th>\n",
       "      <td>negative/001327.npz</td>\n",
       "      <td>0</td>\n",
       "      <td>001327</td>\n",
       "      <td>Dataset/CarCrash/videos/Normal/001327.mp4</td>\n",
       "      <td>NaN</td>\n",
       "      <td>NaN</td>\n",
       "      <td>NaN</td>\n",
       "      <td>NaN</td>\n",
       "      <td>NaN</td>\n",
       "    </tr>\n",
       "    <tr>\n",
       "      <th>4499</th>\n",
       "      <td>positive/001037.npz</td>\n",
       "      <td>1</td>\n",
       "      <td>001037</td>\n",
       "      <td>Dataset/CarCrash/videos/Crash-1500/001037.mp4</td>\n",
       "      <td>001037</td>\n",
       "      <td>[0, 0, 0, 0, 0, 0, 0, 0, 0, 0, 0, 0, 0, 0, 0, ...</td>\n",
       "      <td>43.0</td>\n",
       "      <td>No</td>\n",
       "      <td>1.0</td>\n",
       "    </tr>\n",
       "  </tbody>\n",
       "</table>\n",
       "<p>4500 rows × 9 columns</p>\n",
       "</div>"
      ],
      "text/plain": [
       "                 npz_file  label_x video_file  \\\n",
       "0     negative/001355.npz        0     001355   \n",
       "1     negative/002192.npz        0     002192   \n",
       "2     negative/002082.npz        0     002082   \n",
       "3     negative/000754.npz        0     000754   \n",
       "4     positive/000713.npz        1     000713   \n",
       "...                   ...      ...        ...   \n",
       "4495  negative/002476.npz        0     002476   \n",
       "4496  positive/000561.npz        1     000561   \n",
       "4497  negative/001092.npz        0     001092   \n",
       "4498  negative/001327.npz        0     001327   \n",
       "4499  positive/001037.npz        1     001037   \n",
       "\n",
       "                                         video_path     vid  \\\n",
       "0         Dataset/CarCrash/videos/Normal/001355.mp4     NaN   \n",
       "1         Dataset/CarCrash/videos/Normal/002192.mp4     NaN   \n",
       "2         Dataset/CarCrash/videos/Normal/002082.mp4     NaN   \n",
       "3         Dataset/CarCrash/videos/Normal/000754.mp4     NaN   \n",
       "4     Dataset/CarCrash/videos/Crash-1500/000713.mp4  000713   \n",
       "...                                             ...     ...   \n",
       "4495      Dataset/CarCrash/videos/Normal/002476.mp4     NaN   \n",
       "4496  Dataset/CarCrash/videos/Crash-1500/000561.mp4  000561   \n",
       "4497      Dataset/CarCrash/videos/Normal/001092.mp4     NaN   \n",
       "4498      Dataset/CarCrash/videos/Normal/001327.mp4     NaN   \n",
       "4499  Dataset/CarCrash/videos/Crash-1500/001037.mp4  001037   \n",
       "\n",
       "                                                label_y  accident_frame  \\\n",
       "0                                                   NaN             NaN   \n",
       "1                                                   NaN             NaN   \n",
       "2                                                   NaN             NaN   \n",
       "3                                                   NaN             NaN   \n",
       "4     [0, 0, 0, 0, 0, 0, 0, 0, 0, 0, 0, 0, 0, 0, 0, ...            41.0   \n",
       "...                                                 ...             ...   \n",
       "4495                                                NaN             NaN   \n",
       "4496  [0, 0, 0, 0, 0, 0, 0, 0, 0, 0, 0, 0, 0, 0, 0, ...            39.0   \n",
       "4497                                                NaN             NaN   \n",
       "4498                                                NaN             NaN   \n",
       "4499  [0, 0, 0, 0, 0, 0, 0, 0, 0, 0, 0, 0, 0, 0, 0, ...            43.0   \n",
       "\n",
       "     ego_involve  accident  \n",
       "0            NaN       NaN  \n",
       "1            NaN       NaN  \n",
       "2            NaN       NaN  \n",
       "3            NaN       NaN  \n",
       "4             No       1.0  \n",
       "...          ...       ...  \n",
       "4495         NaN       NaN  \n",
       "4496         Yes       1.0  \n",
       "4497         NaN       NaN  \n",
       "4498         NaN       NaN  \n",
       "4499          No       1.0  \n",
       "\n",
       "[4500 rows x 9 columns]"
      ]
     },
     "execution_count": 26,
     "metadata": {},
     "output_type": "execute_result"
    }
   ],
   "source": [
    "df"
   ]
  },
  {
   "cell_type": "code",
   "execution_count": 27,
   "metadata": {},
   "outputs": [
    {
     "data": {
      "text/html": [
       "<div>\n",
       "<style scoped>\n",
       "    .dataframe tbody tr th:only-of-type {\n",
       "        vertical-align: middle;\n",
       "    }\n",
       "\n",
       "    .dataframe tbody tr th {\n",
       "        vertical-align: top;\n",
       "    }\n",
       "\n",
       "    .dataframe thead th {\n",
       "        text-align: right;\n",
       "    }\n",
       "</style>\n",
       "<table border=\"1\" class=\"dataframe\">\n",
       "  <thead>\n",
       "    <tr style=\"text-align: right;\">\n",
       "      <th></th>\n",
       "      <th>npz_file</th>\n",
       "      <th>video_file</th>\n",
       "      <th>video_path</th>\n",
       "      <th>accident_frame</th>\n",
       "      <th>ego_involve</th>\n",
       "      <th>accident</th>\n",
       "    </tr>\n",
       "  </thead>\n",
       "  <tbody>\n",
       "    <tr>\n",
       "      <th>0</th>\n",
       "      <td>negative/001355.npz</td>\n",
       "      <td>001355</td>\n",
       "      <td>Dataset/CarCrash/videos/Normal/001355.mp4</td>\n",
       "      <td>-1.0</td>\n",
       "      <td>Yes</td>\n",
       "      <td>0.0</td>\n",
       "    </tr>\n",
       "    <tr>\n",
       "      <th>1</th>\n",
       "      <td>negative/002192.npz</td>\n",
       "      <td>002192</td>\n",
       "      <td>Dataset/CarCrash/videos/Normal/002192.mp4</td>\n",
       "      <td>-1.0</td>\n",
       "      <td>Yes</td>\n",
       "      <td>0.0</td>\n",
       "    </tr>\n",
       "    <tr>\n",
       "      <th>2</th>\n",
       "      <td>negative/002082.npz</td>\n",
       "      <td>002082</td>\n",
       "      <td>Dataset/CarCrash/videos/Normal/002082.mp4</td>\n",
       "      <td>-1.0</td>\n",
       "      <td>Yes</td>\n",
       "      <td>0.0</td>\n",
       "    </tr>\n",
       "    <tr>\n",
       "      <th>3</th>\n",
       "      <td>negative/000754.npz</td>\n",
       "      <td>000754</td>\n",
       "      <td>Dataset/CarCrash/videos/Normal/000754.mp4</td>\n",
       "      <td>-1.0</td>\n",
       "      <td>Yes</td>\n",
       "      <td>0.0</td>\n",
       "    </tr>\n",
       "    <tr>\n",
       "      <th>5</th>\n",
       "      <td>negative/000847.npz</td>\n",
       "      <td>000847</td>\n",
       "      <td>Dataset/CarCrash/videos/Normal/000847.mp4</td>\n",
       "      <td>-1.0</td>\n",
       "      <td>Yes</td>\n",
       "      <td>0.0</td>\n",
       "    </tr>\n",
       "  </tbody>\n",
       "</table>\n",
       "</div>"
      ],
      "text/plain": [
       "              npz_file video_file                                 video_path  \\\n",
       "0  negative/001355.npz     001355  Dataset/CarCrash/videos/Normal/001355.mp4   \n",
       "1  negative/002192.npz     002192  Dataset/CarCrash/videos/Normal/002192.mp4   \n",
       "2  negative/002082.npz     002082  Dataset/CarCrash/videos/Normal/002082.mp4   \n",
       "3  negative/000754.npz     000754  Dataset/CarCrash/videos/Normal/000754.mp4   \n",
       "5  negative/000847.npz     000847  Dataset/CarCrash/videos/Normal/000847.mp4   \n",
       "\n",
       "   accident_frame ego_involve  accident  \n",
       "0            -1.0         Yes       0.0  \n",
       "1            -1.0         Yes       0.0  \n",
       "2            -1.0         Yes       0.0  \n",
       "3            -1.0         Yes       0.0  \n",
       "5            -1.0         Yes       0.0  "
      ]
     },
     "execution_count": 27,
     "metadata": {},
     "output_type": "execute_result"
    }
   ],
   "source": [
    "df.drop([\"vid\",\"label_x\",\"label_y\"],axis=1,inplace=True)\n",
    "df.accident.fillna(0,inplace=True)\n",
    "df.ego_involve.fillna(\"Yes\",inplace=True)\n",
    "df.accident_frame.fillna(-1,inplace=True)\n",
    "#on ne garde que si ego involve est vrai\n",
    "df=df[df[\"ego_involve\"]==\"Yes\"]\n",
    "\n",
    "df.head()"
   ]
  },
  {
   "cell_type": "code",
   "execution_count": 28,
   "metadata": {},
   "outputs": [
    {
     "data": {
      "text/html": [
       "<div>\n",
       "<style scoped>\n",
       "    .dataframe tbody tr th:only-of-type {\n",
       "        vertical-align: middle;\n",
       "    }\n",
       "\n",
       "    .dataframe tbody tr th {\n",
       "        vertical-align: top;\n",
       "    }\n",
       "\n",
       "    .dataframe thead th {\n",
       "        text-align: right;\n",
       "    }\n",
       "</style>\n",
       "<table border=\"1\" class=\"dataframe\">\n",
       "  <thead>\n",
       "    <tr style=\"text-align: right;\">\n",
       "      <th></th>\n",
       "      <th>npz_file</th>\n",
       "      <th>accident_frame</th>\n",
       "    </tr>\n",
       "  </thead>\n",
       "  <tbody>\n",
       "    <tr>\n",
       "      <th>0</th>\n",
       "      <td>negative/001355.npz</td>\n",
       "      <td>-1.0</td>\n",
       "    </tr>\n",
       "    <tr>\n",
       "      <th>1</th>\n",
       "      <td>negative/002192.npz</td>\n",
       "      <td>-1.0</td>\n",
       "    </tr>\n",
       "    <tr>\n",
       "      <th>2</th>\n",
       "      <td>negative/002082.npz</td>\n",
       "      <td>-1.0</td>\n",
       "    </tr>\n",
       "    <tr>\n",
       "      <th>3</th>\n",
       "      <td>negative/000754.npz</td>\n",
       "      <td>-1.0</td>\n",
       "    </tr>\n",
       "    <tr>\n",
       "      <th>5</th>\n",
       "      <td>negative/000847.npz</td>\n",
       "      <td>-1.0</td>\n",
       "    </tr>\n",
       "  </tbody>\n",
       "</table>\n",
       "</div>"
      ],
      "text/plain": [
       "              npz_file  accident_frame\n",
       "0  negative/001355.npz            -1.0\n",
       "1  negative/002192.npz            -1.0\n",
       "2  negative/002082.npz            -1.0\n",
       "3  negative/000754.npz            -1.0\n",
       "5  negative/000847.npz            -1.0"
      ]
     },
     "execution_count": 28,
     "metadata": {},
     "output_type": "execute_result"
    }
   ],
   "source": [
    "df_for_training=df.drop([\"accident\",\"ego_involve\",\"video_path\",\"video_file\"],axis=1)\n",
    "df_for_training.head()"
   ]
  },
  {
   "cell_type": "code",
   "execution_count": 114,
   "metadata": {},
   "outputs": [],
   "source": [
    "#save the dataset for training\n",
    "df_for_training.to_parquet(\"Dataset/CarCrash/df_for_training.parquet\")"
   ]
  },
  {
   "cell_type": "code",
   "execution_count": 29,
   "metadata": {},
   "outputs": [
    {
     "data": {
      "text/plain": [
       "(3040, 1)"
      ]
     },
     "metadata": {},
     "output_type": "display_data"
    },
    {
     "data": {
      "text/plain": [
       "(761, 1)"
      ]
     },
     "metadata": {},
     "output_type": "display_data"
    },
    {
     "data": {
      "text/plain": [
       "(3040,)"
      ]
     },
     "metadata": {},
     "output_type": "display_data"
    },
    {
     "data": {
      "text/plain": [
       "(761,)"
      ]
     },
     "metadata": {},
     "output_type": "display_data"
    }
   ],
   "source": [
    "#split the dataset into train and test\n",
    "\n",
    "from sklearn.model_selection import train_test_split\n",
    "X_train, X_test, y_train, y_test = train_test_split(df_for_training.drop([\"accident_frame\"],axis=1), df_for_training[\"accident_frame\"], test_size=0.2, random_state=42)\n",
    "\n",
    "display(X_train.shape)\n",
    "display(X_test.shape)\n",
    "display(y_train.shape)\n",
    "display(y_test.shape)"
   ]
  },
  {
   "cell_type": "code",
   "execution_count": null,
   "metadata": {},
   "outputs": [],
   "source": [
    "def read_features_file(file):\n",
    "    #Code to open and read feature in npz files\n",
    "    features = np.load(file)  \n",
    "    #keep only data and det from feature\n",
    "    features = features[\"data\"]\n",
    "\n",
    "    return features"
   ]
  },
  {
   "cell_type": "code",
   "execution_count": 31,
   "metadata": {},
   "outputs": [
    {
     "data": {
      "text/html": [
       "<div>\n",
       "<style scoped>\n",
       "    .dataframe tbody tr th:only-of-type {\n",
       "        vertical-align: middle;\n",
       "    }\n",
       "\n",
       "    .dataframe tbody tr th {\n",
       "        vertical-align: top;\n",
       "    }\n",
       "\n",
       "    .dataframe thead th {\n",
       "        text-align: right;\n",
       "    }\n",
       "</style>\n",
       "<table border=\"1\" class=\"dataframe\">\n",
       "  <thead>\n",
       "    <tr style=\"text-align: right;\">\n",
       "      <th></th>\n",
       "      <th>npz_file</th>\n",
       "    </tr>\n",
       "  </thead>\n",
       "  <tbody>\n",
       "    <tr>\n",
       "      <th>1024</th>\n",
       "      <td>negative/001325.npz</td>\n",
       "    </tr>\n",
       "    <tr>\n",
       "      <th>873</th>\n",
       "      <td>negative/000034.npz</td>\n",
       "    </tr>\n",
       "    <tr>\n",
       "      <th>601</th>\n",
       "      <td>negative/002041.npz</td>\n",
       "    </tr>\n",
       "    <tr>\n",
       "      <th>1947</th>\n",
       "      <td>negative/002490.npz</td>\n",
       "    </tr>\n",
       "    <tr>\n",
       "      <th>1475</th>\n",
       "      <td>negative/000685.npz</td>\n",
       "    </tr>\n",
       "    <tr>\n",
       "      <th>...</th>\n",
       "      <td>...</td>\n",
       "    </tr>\n",
       "    <tr>\n",
       "      <th>1347</th>\n",
       "      <td>negative/001643.npz</td>\n",
       "    </tr>\n",
       "    <tr>\n",
       "      <th>1537</th>\n",
       "      <td>positive/000053.npz</td>\n",
       "    </tr>\n",
       "    <tr>\n",
       "      <th>1022</th>\n",
       "      <td>negative/000484.npz</td>\n",
       "    </tr>\n",
       "    <tr>\n",
       "      <th>4157</th>\n",
       "      <td>negative/002574.npz</td>\n",
       "    </tr>\n",
       "    <tr>\n",
       "      <th>3766</th>\n",
       "      <td>negative/002288.npz</td>\n",
       "    </tr>\n",
       "  </tbody>\n",
       "</table>\n",
       "<p>3040 rows × 1 columns</p>\n",
       "</div>"
      ],
      "text/plain": [
       "                 npz_file\n",
       "1024  negative/001325.npz\n",
       "873   negative/000034.npz\n",
       "601   negative/002041.npz\n",
       "1947  negative/002490.npz\n",
       "1475  negative/000685.npz\n",
       "...                   ...\n",
       "1347  negative/001643.npz\n",
       "1537  positive/000053.npz\n",
       "1022  negative/000484.npz\n",
       "4157  negative/002574.npz\n",
       "3766  negative/002288.npz\n",
       "\n",
       "[3040 rows x 1 columns]"
      ]
     },
     "execution_count": 31,
     "metadata": {},
     "output_type": "execute_result"
    }
   ],
   "source": [
    "X_train"
   ]
  },
  {
   "cell_type": "code",
   "execution_count": 33,
   "metadata": {},
   "outputs": [],
   "source": [
    "test_file=\"Dataset/CarCrash/vgg16_features/positive/000004.npz\"\n",
    "features = np.load(test_file)\n"
   ]
  },
  {
   "cell_type": "code",
   "execution_count": 36,
   "metadata": {},
   "outputs": [
    {
     "data": {
      "text/plain": [
       "(50, 20, 4096)"
      ]
     },
     "execution_count": 36,
     "metadata": {},
     "output_type": "execute_result"
    }
   ],
   "source": [
    "features[\"data\"].shape"
   ]
  },
  {
   "cell_type": "code",
   "execution_count": 37,
   "metadata": {},
   "outputs": [
    {
     "data": {
      "text/plain": [
       "(50, 19, 6)"
      ]
     },
     "execution_count": 37,
     "metadata": {},
     "output_type": "execute_result"
    }
   ],
   "source": [
    "features[\"det\"].shape"
   ]
  },
  {
   "cell_type": "markdown",
   "metadata": {},
   "source": [
    "- data: Extracted 4096-dim features with shape (50, 20, 4096). It contains frame-level feature with shape (50, 1, 4096) and 19 box-level features with shape (50, 19, 4096).\n",
    "- det: Detected bounding boxes with shape (50, 19, 6), where the last dim denotes (x1, y1, x2, y2, prob, cls).\n",
    "- labels: One-hot video labels to indicate whether the video contains an accident, i.e., [0, 1] denotes positive (accident) and [1, 0] denotes negative (normal).\n",
    "- ID: The video name for current feature file."
   ]
  },
  {
   "cell_type": "code",
   "execution_count": 71,
   "metadata": {},
   "outputs": [],
   "source": [
    "def prepare_npz_file(file):\n",
    "    #Code to open and read feature in npz files\n",
    "    features = np.load(file)  \n",
    "    #keep only data and det from feature\n",
    "    features_det = features[\"det\"]  \n",
    "   \n",
    "    return features_det"
   ]
  },
  {
   "cell_type": "code",
   "execution_count": 104,
   "metadata": {},
   "outputs": [
    {
     "data": {
      "text/html": [
       "<div>\n",
       "<style scoped>\n",
       "    .dataframe tbody tr th:only-of-type {\n",
       "        vertical-align: middle;\n",
       "    }\n",
       "\n",
       "    .dataframe tbody tr th {\n",
       "        vertical-align: top;\n",
       "    }\n",
       "\n",
       "    .dataframe thead th {\n",
       "        text-align: right;\n",
       "    }\n",
       "</style>\n",
       "<table border=\"1\" class=\"dataframe\">\n",
       "  <thead>\n",
       "    <tr style=\"text-align: right;\">\n",
       "      <th></th>\n",
       "      <th>npz_file</th>\n",
       "    </tr>\n",
       "  </thead>\n",
       "  <tbody>\n",
       "    <tr>\n",
       "      <th>1024</th>\n",
       "      <td>negative/001325.npz</td>\n",
       "    </tr>\n",
       "    <tr>\n",
       "      <th>873</th>\n",
       "      <td>negative/000034.npz</td>\n",
       "    </tr>\n",
       "    <tr>\n",
       "      <th>601</th>\n",
       "      <td>negative/002041.npz</td>\n",
       "    </tr>\n",
       "    <tr>\n",
       "      <th>1947</th>\n",
       "      <td>negative/002490.npz</td>\n",
       "    </tr>\n",
       "    <tr>\n",
       "      <th>1475</th>\n",
       "      <td>negative/000685.npz</td>\n",
       "    </tr>\n",
       "    <tr>\n",
       "      <th>...</th>\n",
       "      <td>...</td>\n",
       "    </tr>\n",
       "    <tr>\n",
       "      <th>2833</th>\n",
       "      <td>negative/002540.npz</td>\n",
       "    </tr>\n",
       "    <tr>\n",
       "      <th>3166</th>\n",
       "      <td>negative/000796.npz</td>\n",
       "    </tr>\n",
       "    <tr>\n",
       "      <th>3246</th>\n",
       "      <td>negative/000868.npz</td>\n",
       "    </tr>\n",
       "    <tr>\n",
       "      <th>1908</th>\n",
       "      <td>negative/000765.npz</td>\n",
       "    </tr>\n",
       "    <tr>\n",
       "      <th>727</th>\n",
       "      <td>positive/001050.npz</td>\n",
       "    </tr>\n",
       "  </tbody>\n",
       "</table>\n",
       "<p>100 rows × 1 columns</p>\n",
       "</div>"
      ],
      "text/plain": [
       "                 npz_file\n",
       "1024  negative/001325.npz\n",
       "873   negative/000034.npz\n",
       "601   negative/002041.npz\n",
       "1947  negative/002490.npz\n",
       "1475  negative/000685.npz\n",
       "...                   ...\n",
       "2833  negative/002540.npz\n",
       "3166  negative/000796.npz\n",
       "3246  negative/000868.npz\n",
       "1908  negative/000765.npz\n",
       "727   positive/001050.npz\n",
       "\n",
       "[100 rows x 1 columns]"
      ]
     },
     "metadata": {},
     "output_type": "display_data"
    },
    {
     "data": {
      "text/plain": [
       "1024    -1.0\n",
       "873     -1.0\n",
       "601     -1.0\n",
       "1947    -1.0\n",
       "1475    -1.0\n",
       "        ... \n",
       "2833    -1.0\n",
       "3166    -1.0\n",
       "3246    -1.0\n",
       "1908    -1.0\n",
       "727     38.0\n",
       "Name: accident_frame, Length: 100, dtype: float64"
      ]
     },
     "metadata": {},
     "output_type": "display_data"
    }
   ],
   "source": [
    "X_train_prep=X_train[:100]\n",
    "y_train_prep=y_train[:100]\n",
    "display(X_train_prep)\n",
    "display(y_train_prep)"
   ]
  },
  {
   "cell_type": "code",
   "execution_count": 105,
   "metadata": {},
   "outputs": [],
   "source": [
    "#On rrécupère les features\n",
    "X_train_prep= X_train_prep[\"npz_file\"].apply(lambda  x : prepare_npz_file(\"Dataset/CarCrash/vgg16_features/\"+ x)).to_list()"
   ]
  },
  {
   "cell_type": "code",
   "execution_count": 106,
   "metadata": {},
   "outputs": [],
   "source": [
    "#On transforme tout en array\n",
    "X_train_prep=np.array(X_train_prep)"
   ]
  },
  {
   "cell_type": "code",
   "execution_count": 107,
   "metadata": {},
   "outputs": [
    {
     "data": {
      "text/plain": [
       "(100, 30, 19, 6)"
      ]
     },
     "execution_count": 107,
     "metadata": {},
     "output_type": "execute_result"
    }
   ],
   "source": [
    "#on prend les 30 première frames\n",
    "X_train_prep=X_train_prep[:,:30,:]\n",
    "X_train_prep.shape"
   ]
  },
  {
   "cell_type": "code",
   "execution_count": 108,
   "metadata": {},
   "outputs": [
    {
     "data": {
      "text/plain": [
       "array([-1., -1., -1., -1., -1., 44., -1., 46., -1., -1., 47., 35., -1.,\n",
       "       -1., -1., -1., -1., -1., -1., -1., -1., -1., 48., -1., -1., -1.,\n",
       "       -1., -1., 45., 36., -1., -1., -1., -1., -1., 32., -1., -1., -1.,\n",
       "       -1., -1., -1., 35., -1., -1., 46., -1., -1., -1., -1., -1., 48.,\n",
       "       -1., -1., -1., 30., -1., -1., -1., -1., -1., -1., 40., -1., -1.,\n",
       "       -1., 35., -1., -1., -1., -1., -1., -1., -1., -1., -1., -1., -1.,\n",
       "       -1., -1., -1., -1., -1., -1., -1., -1., -1., -1., -1., -1., -1.,\n",
       "       -1., 43., 46., 37., -1., -1., -1., -1., 38.])"
      ]
     },
     "execution_count": 108,
     "metadata": {},
     "output_type": "execute_result"
    }
   ],
   "source": [
    "y_train_prep=np.array(y_train_prep.to_list())\n",
    "y_train_prep"
   ]
  },
  {
   "cell_type": "code",
   "execution_count": 109,
   "metadata": {},
   "outputs": [],
   "source": [
    "import numpy as np\n",
    "import tensorflow as tf\n",
    "from tensorflow.keras.models import Sequential\n",
    "from tensorflow.keras.layers import Conv2D, MaxPooling2D, Reshape, SimpleRNN, Dense, TimeDistributed, Flatten\n"
   ]
  },
  {
   "cell_type": "code",
   "execution_count": 110,
   "metadata": {},
   "outputs": [],
   "source": [
    "# Créer le modèle\n",
    "model = Sequential()\n",
    "\n",
    "# Ajouter des couches Conv2D et MaxPooling2D\n",
    "# Remarque : Tu dois choisir le nombre et la taille des filtres en fonction de tes données\n",
    "# Première couche Conv2D et MaxPooling2D\n",
    "model.add(TimeDistributed(Conv2D(32, (3, 3), activation='relu', padding='same'), input_shape=(30, 19, 6, 1)))\n",
    "model.add(TimeDistributed(MaxPooling2D(2, 2)))\n",
    "\n",
    "# Deuxième couche Conv2D avec un filtre plus petit ou padding\n",
    "model.add(TimeDistributed(Conv2D(64, (2, 2), activation='relu', padding='same'))) # J'ai modifié la taille du filtre et ajouté le padding\n",
    "model.add(TimeDistributed(MaxPooling2D(2, 2)))\n",
    "\n",
    "model.add(TimeDistributed(Flatten()))\n",
    "\n",
    "# Reshape pour le RNN\n",
    "model.add(Reshape((30, -1)))  # -1 signifie que cette dimension sera calculée automatiquement\n",
    "\n",
    "# Ajouter des couches RNN\n",
    "model.add(SimpleRNN(50, activation='relu', return_sequences=True))\n",
    "model.add(SimpleRNN(50, activation='relu'))\n",
    "\n",
    "# Couche de sortie\n",
    "model.add(Dense(2, activation='softmax')) \n",
    "\n",
    "model.compile(optimizer='adam', loss='categorical_crossentropy', metrics=['accuracy'])\n"
   ]
  },
  {
   "cell_type": "code",
   "execution_count": 111,
   "metadata": {},
   "outputs": [
    {
     "data": {
      "text/html": [
       "<div>\n",
       "<style scoped>\n",
       "    .dataframe tbody tr th:only-of-type {\n",
       "        vertical-align: middle;\n",
       "    }\n",
       "\n",
       "    .dataframe tbody tr th {\n",
       "        vertical-align: top;\n",
       "    }\n",
       "\n",
       "    .dataframe thead th {\n",
       "        text-align: right;\n",
       "    }\n",
       "</style>\n",
       "<table border=\"1\" class=\"dataframe\">\n",
       "  <thead>\n",
       "    <tr style=\"text-align: right;\">\n",
       "      <th></th>\n",
       "      <th>0</th>\n",
       "    </tr>\n",
       "  </thead>\n",
       "  <tbody>\n",
       "    <tr>\n",
       "      <th>0</th>\n",
       "      <td>0.0</td>\n",
       "    </tr>\n",
       "    <tr>\n",
       "      <th>1</th>\n",
       "      <td>0.0</td>\n",
       "    </tr>\n",
       "    <tr>\n",
       "      <th>2</th>\n",
       "      <td>0.0</td>\n",
       "    </tr>\n",
       "    <tr>\n",
       "      <th>3</th>\n",
       "      <td>0.0</td>\n",
       "    </tr>\n",
       "    <tr>\n",
       "      <th>4</th>\n",
       "      <td>0.0</td>\n",
       "    </tr>\n",
       "    <tr>\n",
       "      <th>...</th>\n",
       "      <td>...</td>\n",
       "    </tr>\n",
       "    <tr>\n",
       "      <th>95</th>\n",
       "      <td>0.0</td>\n",
       "    </tr>\n",
       "    <tr>\n",
       "      <th>96</th>\n",
       "      <td>0.0</td>\n",
       "    </tr>\n",
       "    <tr>\n",
       "      <th>97</th>\n",
       "      <td>0.0</td>\n",
       "    </tr>\n",
       "    <tr>\n",
       "      <th>98</th>\n",
       "      <td>0.0</td>\n",
       "    </tr>\n",
       "    <tr>\n",
       "      <th>99</th>\n",
       "      <td>1.0</td>\n",
       "    </tr>\n",
       "  </tbody>\n",
       "</table>\n",
       "<p>100 rows × 1 columns</p>\n",
       "</div>"
      ],
      "text/plain": [
       "      0\n",
       "0   0.0\n",
       "1   0.0\n",
       "2   0.0\n",
       "3   0.0\n",
       "4   0.0\n",
       "..  ...\n",
       "95  0.0\n",
       "96  0.0\n",
       "97  0.0\n",
       "98  0.0\n",
       "99  1.0\n",
       "\n",
       "[100 rows x 1 columns]"
      ]
     },
     "execution_count": 111,
     "metadata": {},
     "output_type": "execute_result"
    }
   ],
   "source": [
    "y_train_prep=pd.DataFrame(y_train_prep)\n",
    "y_train_prep.replace(-1,0,inplace=True)\n",
    "#remplacer toute les valeurs différentes de 0 par 1\n",
    "y_train_prep[y_train_prep!=0]=1\n",
    "y_train_prep"
   ]
  },
  {
   "cell_type": "code",
   "execution_count": 112,
   "metadata": {},
   "outputs": [
    {
     "data": {
      "text/plain": [
       "array([[1., 0.],\n",
       "       [1., 0.],\n",
       "       [1., 0.],\n",
       "       [1., 0.],\n",
       "       [1., 0.],\n",
       "       [0., 1.],\n",
       "       [1., 0.],\n",
       "       [0., 1.],\n",
       "       [1., 0.],\n",
       "       [1., 0.],\n",
       "       [0., 1.],\n",
       "       [0., 1.],\n",
       "       [1., 0.],\n",
       "       [1., 0.],\n",
       "       [1., 0.],\n",
       "       [1., 0.],\n",
       "       [1., 0.],\n",
       "       [1., 0.],\n",
       "       [1., 0.],\n",
       "       [1., 0.],\n",
       "       [1., 0.],\n",
       "       [1., 0.],\n",
       "       [0., 1.],\n",
       "       [1., 0.],\n",
       "       [1., 0.],\n",
       "       [1., 0.],\n",
       "       [1., 0.],\n",
       "       [1., 0.],\n",
       "       [0., 1.],\n",
       "       [0., 1.],\n",
       "       [1., 0.],\n",
       "       [1., 0.],\n",
       "       [1., 0.],\n",
       "       [1., 0.],\n",
       "       [1., 0.],\n",
       "       [0., 1.],\n",
       "       [1., 0.],\n",
       "       [1., 0.],\n",
       "       [1., 0.],\n",
       "       [1., 0.],\n",
       "       [1., 0.],\n",
       "       [1., 0.],\n",
       "       [0., 1.],\n",
       "       [1., 0.],\n",
       "       [1., 0.],\n",
       "       [0., 1.],\n",
       "       [1., 0.],\n",
       "       [1., 0.],\n",
       "       [1., 0.],\n",
       "       [1., 0.],\n",
       "       [1., 0.],\n",
       "       [0., 1.],\n",
       "       [1., 0.],\n",
       "       [1., 0.],\n",
       "       [1., 0.],\n",
       "       [0., 1.],\n",
       "       [1., 0.],\n",
       "       [1., 0.],\n",
       "       [1., 0.],\n",
       "       [1., 0.],\n",
       "       [1., 0.],\n",
       "       [1., 0.],\n",
       "       [0., 1.],\n",
       "       [1., 0.],\n",
       "       [1., 0.],\n",
       "       [1., 0.],\n",
       "       [0., 1.],\n",
       "       [1., 0.],\n",
       "       [1., 0.],\n",
       "       [1., 0.],\n",
       "       [1., 0.],\n",
       "       [1., 0.],\n",
       "       [1., 0.],\n",
       "       [1., 0.],\n",
       "       [1., 0.],\n",
       "       [1., 0.],\n",
       "       [1., 0.],\n",
       "       [1., 0.],\n",
       "       [1., 0.],\n",
       "       [1., 0.],\n",
       "       [1., 0.],\n",
       "       [1., 0.],\n",
       "       [1., 0.],\n",
       "       [1., 0.],\n",
       "       [1., 0.],\n",
       "       [1., 0.],\n",
       "       [1., 0.],\n",
       "       [1., 0.],\n",
       "       [1., 0.],\n",
       "       [1., 0.],\n",
       "       [1., 0.],\n",
       "       [1., 0.],\n",
       "       [0., 1.],\n",
       "       [0., 1.],\n",
       "       [0., 1.],\n",
       "       [1., 0.],\n",
       "       [1., 0.],\n",
       "       [1., 0.],\n",
       "       [1., 0.],\n",
       "       [0., 1.]], dtype=float32)"
      ]
     },
     "execution_count": 112,
     "metadata": {},
     "output_type": "execute_result"
    }
   ],
   "source": [
    "from tensorflow.keras.utils import to_categorical\n",
    "\n",
    "# Supposons que y_train soit tes étiquettes originales\n",
    "y_train_one_hot = to_categorical(y_train_prep, num_classes=2)\n",
    "y_train_one_hot"
   ]
  },
  {
   "cell_type": "code",
   "execution_count": 113,
   "metadata": {},
   "outputs": [
    {
     "name": "stdout",
     "output_type": "stream",
     "text": [
      "Epoch 1/10\n",
      "4/4 [==============================] - 1s 21ms/step - loss: 98.8753 - accuracy: 0.4500\n",
      "Epoch 2/10\n",
      "4/4 [==============================] - 0s 18ms/step - loss: 34.8127 - accuracy: 0.8200\n",
      "Epoch 3/10\n",
      "4/4 [==============================] - 0s 16ms/step - loss: 16.6220 - accuracy: 0.8200\n",
      "Epoch 4/10\n",
      "4/4 [==============================] - 0s 16ms/step - loss: 20.6435 - accuracy: 0.4200\n",
      "Epoch 5/10\n",
      "4/4 [==============================] - 0s 18ms/step - loss: 8.8304 - accuracy: 0.8100\n",
      "Epoch 6/10\n",
      "4/4 [==============================] - 0s 16ms/step - loss: 6.2533 - accuracy: 0.8300\n",
      "Epoch 7/10\n",
      "4/4 [==============================] - 0s 17ms/step - loss: 4.2432 - accuracy: 0.6900\n",
      "Epoch 8/10\n",
      "4/4 [==============================] - 0s 20ms/step - loss: 3.0662 - accuracy: 0.8000\n",
      "Epoch 9/10\n",
      "4/4 [==============================] - 0s 20ms/step - loss: 2.8013 - accuracy: 0.8400\n",
      "Epoch 10/10\n",
      "4/4 [==============================] - 0s 19ms/step - loss: 3.8433 - accuracy: 0.6200\n"
     ]
    },
    {
     "data": {
      "text/plain": [
       "<keras.src.callbacks.History at 0x2a0d31e50>"
      ]
     },
     "execution_count": 113,
     "metadata": {},
     "output_type": "execute_result"
    }
   ],
   "source": [
    "\n",
    "# Entraîner le modèle\n",
    "model.fit(X_train_prep, y_train_one_hot, epochs=10)"
   ]
  }
 ],
 "metadata": {
  "kernelspec": {
   "display_name": "base",
   "language": "python",
   "name": "python3"
  },
  "language_info": {
   "codemirror_mode": {
    "name": "ipython",
    "version": 3
   },
   "file_extension": ".py",
   "mimetype": "text/x-python",
   "name": "python",
   "nbconvert_exporter": "python",
   "pygments_lexer": "ipython3",
   "version": "3.11.3"
  }
 },
 "nbformat": 4,
 "nbformat_minor": 2
}
